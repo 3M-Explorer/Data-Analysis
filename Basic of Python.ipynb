{
  "metadata": {
    "kernelspec": {
      "name": "python",
      "display_name": "Python (Pyodide)",
      "language": "python"
    },
    "language_info": {
      "codemirror_mode": {
        "name": "python",
        "version": 3
      },
      "file_extension": ".py",
      "mimetype": "text/x-python",
      "name": "python",
      "nbconvert_exporter": "python",
      "pygments_lexer": "ipython3",
      "version": "3.8"
    },
    "colab": {
      "provenance": []
    }
  },
  "nbformat_minor": 5,
  "nbformat": 4,
  "cells": [
    {
      "id": "33956be4",
      "cell_type": "markdown",
      "source": "#### [Question1]\n\na) Create a string variable called my_str containing the following sentence: Python programming is fun and powerful! <br>\nb) Find the length of my_str. <br>\nc) Replace \"fun\" in my_str with \"exciting.\" Store this back in my_str and print my_str <br>\nd) Find the index of the word powerful in my_str <br>\ne) Split the string into a list of words (google which function can help you do this). Store this in my_str_to_list and print it",
      "metadata": {
        "id": "33956be4"
      }
    },
    {
      "id": "4dfe59e8",
      "cell_type": "code",
      "source": "# create my_str below\nmy_str = \"Python programming is fun and powerful!\"",
      "metadata": {
        "id": "4dfe59e8",
        "trusted": true
      },
      "outputs": [],
      "execution_count": 34
    },
    {
      "id": "33b969da",
      "cell_type": "code",
      "source": "# find out the length of my_str. no need to store this anywhere\nlen(my_str)",
      "metadata": {
        "id": "33b969da",
        "colab": {
          "base_uri": "https://localhost:8080/"
        },
        "outputId": "23c8464f-fab5-409b-a259-a3ac1241fcad",
        "trusted": true
      },
      "outputs": [
        {
          "execution_count": 35,
          "output_type": "execute_result",
          "data": {
            "text/plain": "39"
          },
          "metadata": {}
        }
      ],
      "execution_count": 35
    },
    {
      "id": "b45d1a3b",
      "cell_type": "code",
      "source": "# update my_str so it has the word exciting instead of fun. print my_str at the end\nmy_str.replace(\"fun\", \"exciting\")",
      "metadata": {
        "id": "b45d1a3b",
        "colab": {
          "base_uri": "https://localhost:8080/",
          "height": 35
        },
        "outputId": "6148843b-5029-4411-cd15-924b0f1394f0",
        "trusted": true
      },
      "outputs": [
        {
          "execution_count": 36,
          "output_type": "execute_result",
          "data": {
            "text/plain": "'Python programming is exciting and powerful!'"
          },
          "metadata": {}
        }
      ],
      "execution_count": 36
    },
    {
      "id": "4c67c03c",
      "cell_type": "code",
      "source": "# find the index of the word powerful in my_str\nmy_str.find(\"powerful\")\n#        Or \nmy_str.index(\"powerful\")",
      "metadata": {
        "id": "4c67c03c",
        "colab": {
          "base_uri": "https://localhost:8080/"
        },
        "outputId": "ae2bf276-f7bb-4b7d-c063-0671f636f6bc",
        "trusted": true
      },
      "outputs": [
        {
          "execution_count": 37,
          "output_type": "execute_result",
          "data": {
            "text/plain": "30"
          },
          "metadata": {}
        }
      ],
      "execution_count": 37
    },
    {
      "id": "bdfffa17",
      "cell_type": "code",
      "source": "# create my_str_to_list and store my_str split into a list of words in this. print my_str_to_list\nmy_str_to_list = my_str.split()\nprint(my_str_to_list)",
      "metadata": {
        "id": "bdfffa17",
        "colab": {
          "base_uri": "https://localhost:8080/"
        },
        "outputId": "42092ed7-df3e-4c26-d3c9-a98ba9b2ba4e",
        "trusted": true
      },
      "outputs": [
        {
          "name": "stdout",
          "text": "['Python', 'programming', 'is', 'fun', 'and', 'powerful!']\n",
          "output_type": "stream"
        }
      ],
      "execution_count": 38
    },
    {
      "id": "2235471f",
      "cell_type": "markdown",
      "source": "#### [Question2]\nGiven a variable called Celsius with the value 108.6, convert it to Fahrenheit. Google the formula for celcius to fahrenheit conversion. Print out Fahrenheit.",
      "metadata": {
        "id": "2235471f"
      }
    },
    {
      "id": "3364767a",
      "cell_type": "code",
      "source": "Celsius = 108.6\nFahrenheit = (Celsius*(9/5) )+ 32\n#print out Fahrenheit below\nprint(\"Your converted answer will be\", Fahrenheit,\"°F\")",
      "metadata": {
        "id": "3364767a",
        "colab": {
          "base_uri": "https://localhost:8080/"
        },
        "outputId": "7994a785-59d7-425e-dc9f-0799bdca5ed3",
        "trusted": true
      },
      "outputs": [
        {
          "name": "stdout",
          "text": "Your converted answer will be 227.48 °F\n",
          "output_type": "stream"
        }
      ],
      "execution_count": 40
    },
    {
      "id": "f7069988",
      "cell_type": "markdown",
      "source": "#### [Question3]\n\nA university wants to write a program that will help them decide the eligibility of each applicant. The conditions are:\n- all admits must be 18 or older in age\n- if their GPA is 3.0 or above, they are eligible. If their GPA is 2.8 or above, they are eligible based on a performance test. Otherwise they are not eligible.\n\n\nGiven the three lists names, ages and GPA:\n\nWrite a for loop that will print out the following three things in each iteration:\n\n- Student (insert name) has age (insert age) and GPA (insert GPA)\n- Eligible for admission/ Eligible for admission based on performance test/ Not eligible for admission\n- New line\n\nexample:\n\nStudent Hassan Ali has age 19 and GPA 3.0 <br>\nEligible for admission",
      "metadata": {
        "id": "f7069988"
      }
    },
    {
      "id": "3bd3d902",
      "cell_type": "code",
      "source": "names = ['Hassan Ali', 'Rabbiya Sarmad', 'Zara Haq', 'Hussain Rafay', 'Dua Hamid']\nages = [19, 17, 15, 21, 18, 20]\nGPA = [3.0, 3.9, 2.5, 3.1, 2.9]\n# Write your for loop below:\nfor x in range(len(names)):\n    if ages[x]>=18 and GPA[x]>=3.0:\n        print(\"Student\",names[x],\"has age\",ages[x],\"and GPA\",GPA[x])\n        print(\"Eligible for admission\")\n    elif ages[x]>=18 and GPA[x]<=2.8:\n        print(\"Student\",names[x],\"has age\",ages[x],\"and GPA\",GPA[x])\n        print(\"Eligible for admission based on performance test\")\n    else: \n        print(\"Sorry\",names[x],\" you are not eligible for admission\")",
      "metadata": {
        "id": "3bd3d902",
        "trusted": true
      },
      "outputs": [
        {
          "name": "stdout",
          "text": "Student Hassan Ali has age 19 and GPA 3.0\nEligible for admission\nSorry Rabbiya Sarmad  you are not eligible for admission\nSorry Zara Haq  you are not eligible for admission\nStudent Hussain Rafay has age 21 and GPA 3.1\nEligible for admission\nSorry Dua Hamid  you are not eligible for admission\n",
          "output_type": "stream"
        }
      ],
      "execution_count": 41
    },
    {
      "id": "893405b9",
      "cell_type": "markdown",
      "source": "#### [Question 4]\n\nGiven the following list called numbers:\n\na) Convert it into a tuple and print it. <br>\nb) Calculate the sum of this tuple. Store it in sum_numbers. print sum_numbers <br>\nc) Using slicing, fetch every odd indexed element from numbers <br>\nd) Create new **lists** called evens and odds. Using ONE for loop, add every even integer from the numbers tuple to evens and every odd number to odds. in the end, print numbers, evens and odds. <br>\ne) Would it be possible to do this if evens and odds were tuples instead of lists?",
      "metadata": {
        "id": "893405b9"
      }
    },
    {
      "id": "f0e87e0d",
      "cell_type": "code",
      "source": "numbers =  [12, 34, 45, 67, 89, 100, 23, 56]\n#checking current type\nprint(\"Current type of variable is:\",type(numbers))\n#convert numbers into a tuple below and print numbers\nmy_tuple = tuple(numbers)\nprint(\"New type of variable is:\",type(my_tuple))",
      "metadata": {
        "id": "f0e87e0d",
        "trusted": true
      },
      "outputs": [
        {
          "name": "stdout",
          "text": "Current type of variable is: <class 'list'>\nNew type of variable is: <class 'tuple'>\n",
          "output_type": "stream"
        }
      ],
      "execution_count": 42
    },
    {
      "id": "a41a80cb",
      "cell_type": "code",
      "source": "# create sum_numbers and store the sum of numbers in it. print sum_numbers\nsum_numbers = sum(my_tuple)\nprint(\"Sum of tuple will be\",sum_numbers)",
      "metadata": {
        "id": "a41a80cb",
        "trusted": true
      },
      "outputs": [
        {
          "name": "stdout",
          "text": "Sum of tuple will be 426\n",
          "output_type": "stream"
        }
      ],
      "execution_count": 43
    },
    {
      "id": "5908766a",
      "cell_type": "code",
      "source": "# fetch every odd indexed element from the numbers below. No need to store this anywhere, just show the output\nodd_indexed = numbers[1::2]\nprint(odd_indexed)",
      "metadata": {
        "id": "5908766a",
        "trusted": true
      },
      "outputs": [
        {
          "name": "stdout",
          "text": "[34, 67, 100, 56]\n",
          "output_type": "stream"
        }
      ],
      "execution_count": 11
    },
    {
      "id": "027c59f5",
      "cell_type": "code",
      "source": "# create empty lists called evens and odds below:\nmy_tuple = tuple(numbers)\nevens = []\nodds = []\nfor x in my_tuple:\n    if x % 2 == 0:\n        evens.append(x)\n    else:\n        odds.append(x)\n# print out numbers, evens and odd below\nprint(\"evens numbers are:\", evens)\nprint(\"odds numbers are:\", odds)",
      "metadata": {
        "id": "027c59f5",
        "trusted": true
      },
      "outputs": [
        {
          "name": "stdout",
          "text": "evens numbers are: [12, 34, 100, 56]\nodds numbers are: [45, 67, 89, 23]\n",
          "output_type": "stream"
        }
      ],
      "execution_count": 44
    },
    {
      "id": "4f801920",
      "cell_type": "code",
      "source": "# comment if the above would be possible to do if evens and odds were tuples instead of lists?\n\n# Answere \"No\"\n\n#Key Differences: \n#Lists: Mutable, meaning you can add, remove, or modify elements after the list is created. \n#Tuples: Immutable, meaning once the tuple is created, you cannot change its size or content.",
      "metadata": {
        "id": "4f801920",
        "trusted": true
      },
      "outputs": [],
      "execution_count": 22
    },
    {
      "id": "b0bf88d8",
      "cell_type": "markdown",
      "source": "#### [Question 5]\n\na) Create a list called fruits containing the following fruits: apple, banana, orange, grape, kiwi, mango <br>\nb) Using a for loop, update every single item in fruits so that the first letter is capitalized. Print fruits at the end",
      "metadata": {
        "id": "b0bf88d8"
      }
    },
    {
      "id": "0d1aed0e",
      "cell_type": "code",
      "source": "# create fruits below\nfruits = ['apple', 'banana', 'orange', 'grape', 'kiwi', 'mango']\n# write a for loop to capitalize every element in fruits below\nfor x in range(len(fruits)):\n    fruits[x] = fruits[x].capitalize()\n#print updated fruits below\nprint(fruits)",
      "metadata": {
        "id": "0d1aed0e",
        "trusted": true
      },
      "outputs": [
        {
          "name": "stdout",
          "text": "['Apple', 'Banana', 'Orange', 'Grape', 'Kiwi', 'Mango']\n",
          "output_type": "stream"
        }
      ],
      "execution_count": 45
    },
    {
      "id": "57fe7528",
      "cell_type": "markdown",
      "source": "#### [Question 6]\n\na) Create a dictionary named \"capitals\" with three key-value pairs: \"USA\" - \"Washington DC\", \"France\" - \"Paris\",  and \"Japan\" - \"Tokyo\". Print the dictionary. <br>\nb) Add a new country and its capital to the \"capitals\" dictionary. The country is \"Germany\" and the capital is \"Berlin\". Print the updated dictionary. <br>\nc) Check if \"France\" exists in the \"capitals\" dictionary. If it does, print \"France is in the dictionary\" otherwise, print \"France is not in the dictionary\" (hint: you will need to use the keyword in)",
      "metadata": {
        "id": "57fe7528"
      }
    },
    {
      "id": "fe365bbe",
      "cell_type": "code",
      "source": "# create the dictionary capitals below with its key:value pairs and print it\ncapitals = {\"USA\":\"Washington DC\",\"France\":\"Paris\",\"Japan\":\"Tokyo\"}\nprint(capitals)",
      "metadata": {
        "id": "fe365bbe",
        "trusted": true
      },
      "outputs": [
        {
          "name": "stdout",
          "text": "{'USA': 'Washington DC', 'France': 'Paris', 'Japan': 'Tokyo'}\n",
          "output_type": "stream"
        }
      ],
      "execution_count": 46
    },
    {
      "id": "d219c2ce",
      "cell_type": "code",
      "source": "# add germany to capitals below and print updated dictionary\ncapitals[\"Germany\"] = \"Berlin\"\nprint(updated_dictionary)",
      "metadata": {
        "id": "d219c2ce",
        "trusted": true
      },
      "outputs": [
        {
          "name": "stdout",
          "text": "{'USA': 'Washington DC', 'France': 'Paris', 'Japan': 'Tokyo', 'Germany': 'Berlin'}\n",
          "output_type": "stream"
        }
      ],
      "execution_count": 47
    },
    {
      "id": "65940d65",
      "cell_type": "code",
      "source": "# check if france is in the dictionary and print \"France is in the dictionary\" or \"France is not in the dictionary\"\nif \"France\" in capitals:\n    print(\"France is in the dictionary\")\nelse:\n    print(\"France is not in the dictionary\")",
      "metadata": {
        "id": "65940d65",
        "trusted": true
      },
      "outputs": [
        {
          "name": "stdout",
          "text": "France is in the dictionary\n",
          "output_type": "stream"
        }
      ],
      "execution_count": 48
    }
  ]
}